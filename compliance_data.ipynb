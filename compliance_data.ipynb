{
 "cells": [
  {
   "cell_type": "code",
   "execution_count": null,
   "id": "1c254c7b",
   "metadata": {},
   "outputs": [],
   "source": []
  },
  {
   "cell_type": "code",
   "execution_count": null,
   "id": "b80c730f",
   "metadata": {},
   "outputs": [],
   "source": [
    "# import relevant libraries\n",
    "import random\n",
    "import pandas as pd"
   ]
  },
  {
   "cell_type": "markdown",
   "id": "7106ce23",
   "metadata": {},
   "source": [
    "Lets create random fairness and bias scores for three mock models and store the data in a Pandas DataFrame. After that, we can save it to a CSV file named 'mock_data.csv'. This CSV file can be used as input data for further processing and visualization."
   ]
  },
  {
   "cell_type": "code",
   "execution_count": 1,
   "id": "aeca0c2b",
   "metadata": {},
   "outputs": [],
   "source": [
    "# This function generates mock data for model fairness and bias scores.\n",
    "def generate_mock_data():\n",
    "    # List of model names\n",
    "    models = ['Model A', 'Model B', 'Model C']\n",
    "    \n",
    "    # Generate random fairness scores between 0.8 and 1.0 for each model\n",
    "    fairness_scores = [random.uniform(0.8, 1.0) for _ in models]\n",
    "    \n",
    "    # Generate random bias scores between -0.1 and 0.1 for each model\n",
    "    bias_scores = [random.uniform(-0.1, 0.1) for _ in models]\n",
    "\n",
    "    # Create a dictionary to store the mock data\n",
    "    data = {\n",
    "        'Model': models,\n",
    "        'Fairness Score': fairness_scores,\n",
    "        'Bias Score': bias_scores\n",
    "    }\n",
    "\n",
    "    # Convert the dictionary to a Pandas DataFrame\n",
    "    return pd.DataFrame(data)\n",
    "\n",
    "# This block of code is executed only when the script is run directly, not when imported as a module\n",
    "if __name__ == '__main__':\n",
    "    # Generate mock data using the function\n",
    "    data = generate_mock_data()\n",
    "    \n",
    "    # Save the mock data to a CSV file named 'mock_data.csv', excluding the index column\n",
    "    data.to_csv('mock_data.csv', index=False)\n"
   ]
  },
  {
   "cell_type": "markdown",
   "id": "93b2982c",
   "metadata": {},
   "source": [
    "The line if __name__ == '__main__': is a common construct in Python that is used to check whether a Python script is being run directly or if it's being imported as a module into another script.\n",
    "\n",
    "When you run a Python script, the Python interpreter sets a special built-in variable called __name__ to \"__main__\" for the script that is being executed. On the other hand, if the script is imported as a module into another script, the __name__ variable is set to the name of the script (module) itself.\n",
    "\n",
    "Here's how it works:\n",
    "\n",
    "Running a Script Directly:\n",
    "When you run a Python script directly from the command line or an IDE, the __name__ variable of that script is set to \"__main__\". This allows you to include specific code that should only be executed when the script is run directly.\n",
    "\n",
    "Importing a Script as a Module:\n",
    "If you import a Python script as a module into another script or interactive session, the __name__ variable of the imported script will be set to its filename (without the .py extension) instead of \"__main__\". This allows you to create reusable modules that can be imported and used in different scripts.\n",
    "\n",
    "So, the conditional block if __name__ == '__main__': allows you to include code that should only be executed when the script is run directly. This is often used for testing, debugging, or performing specific tasks that are relevant only when the script is executed on its own."
   ]
  },
  {
   "cell_type": "code",
   "execution_count": null,
   "id": "6c269405",
   "metadata": {},
   "outputs": [],
   "source": []
  }
 ],
 "metadata": {
  "kernelspec": {
   "display_name": "plotly_bokeh",
   "language": "python",
   "name": "plotly_bokeh"
  },
  "language_info": {
   "codemirror_mode": {
    "name": "ipython",
    "version": 3
   },
   "file_extension": ".py",
   "mimetype": "text/x-python",
   "name": "python",
   "nbconvert_exporter": "python",
   "pygments_lexer": "ipython3",
   "version": "3.8.16"
  }
 },
 "nbformat": 4,
 "nbformat_minor": 5
}
